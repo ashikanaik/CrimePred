{
 "cells": [
  {
   "cell_type": "code",
   "execution_count": 3,
   "id": "correct-journal",
   "metadata": {},
   "outputs": [],
   "source": [
    "import sklearn\n",
    "from sklearn.linear_model import LinearRegression\n",
    "import pandas as pd\n",
    "import numpy as np\n",
    "from sklearn.metrics import confusion_matrix, accuracy_score, f1_score, precision_score, recall_score\n",
    "from sklearn.metrics import explained_variance_score\n",
    "from sklearn.metrics import roc_auc_score\n",
    "from sklearn.metrics import max_error\n",
    "from sklearn.metrics import mean_absolute_error\n",
    "from sklearn.metrics import mean_squared_error\n",
    "from sklearn.linear_model import LogisticRegression\n",
    "from sklearn.ensemble import RandomForestClassifier"
   ]
  },
  {
   "cell_type": "code",
   "execution_count": 4,
   "id": "varying-annual",
   "metadata": {},
   "outputs": [
    {
     "name": "stdout",
     "output_type": "stream",
     "text": [
      "18.849185881701317\n",
      "0       0\n",
      "7       0\n",
      "10      0\n",
      "20      1\n",
      "24      1\n",
      "       ..\n",
      "491    33\n",
      "493    35\n",
      "495    32\n",
      "501    33\n",
      "502    34\n",
      "Name: States/UTs, Length: 119, dtype: int64 [17.44833991 16.3761633  15.91672715 16.53082976 15.91883849 17.19192685\n",
      " 17.25861118 17.21094894 16.22299521 17.48498198 17.59178188 17.16584151\n",
      " 17.21155525 18.0746871  16.47491981 16.22422116 16.05137653 17.30361721\n",
      " 17.14200374 17.14207184 17.14207184 16.83723404 16.85432914 16.68876541\n",
      " 16.54152271 16.07977089 15.76349095 15.61073151 15.4856239  17.44840802\n",
      " 17.30068857 17.3361728  17.14200374 17.1442513  17.15480803 17.00565831\n",
      " 16.85781596 16.3769806  15.61325151 15.61447745 15.6810189  15.49107253\n",
      " 17.45051936 17.34489062 17.56773978 17.14207184 16.9901297  17.01206045\n",
      " 16.87598746 16.70136537 16.71553182 16.84159961 16.37779789 16.38678814\n",
      " 16.72691916 16.22299521 16.22299521 16.22299521 16.22333575 16.62388517\n",
      " 20.58381669 15.93504818 15.93593359 15.99661775 15.79604655 16.20196983\n",
      " 15.61141259 15.61638447 15.80225768 18.75221664 20.82085893 17.45344801\n",
      " 17.46822743 17.72806585 17.14207184 17.02949609 17.06082574 16.95982833\n",
      " 16.76239008 17.68048504 17.70091742 16.60779173 16.46524848 16.22299521\n",
      " 16.22306332 18.5907061  15.76614716 15.83248429 16.15987913 16.20755469\n",
      " 15.61073151 15.74442739 15.48603254 17.44922531 17.46849986 17.14200374\n",
      " 17.14200374 17.16100585 16.98985727 16.99659995 17.06403347 16.68481514\n",
      " 16.53001247 16.53968379 16.37847897 16.22299521 16.22299521 16.22306332\n",
      " 16.07187036 16.11893295 15.91679526 15.92312929 16.15081412 15.7638996\n",
      " 15.77254931 16.29200852 15.61066341 15.53575134 16.43361823]\n",
      "-0.014163478265948992\n",
      "9.000936068647817\n",
      "114.26110464540301\n",
      "0.010721016018970575\n"
     ]
    }
   ],
   "source": [
    "data_set = pd.read_csv('data/prediction.csv')\n",
    "\n",
    "data_set['is_train'] = np.random.uniform(0, 1, len(data_set)) <= .75\n",
    "\n",
    "data_set['Region'] = pd.factorize(data_set['Region'])[0]\n",
    "data_set['States/UTs'] = pd.factorize(data_set['States/UTs'])[0]\n",
    "data_set['Type'] = pd.factorize(data_set['Type'])[0]\n",
    "# print(data_set)\n",
    "\n",
    "X_train, X_test = data_set[data_set['is_train'] == True], data_set[data_set['is_train'] == False]\n",
    "\n",
    "\n",
    "features = data_set.columns[2:5]\n",
    "# print(features)\n",
    "\n",
    "y_train = X_train['States/UTs']\n",
    "\n",
    "y_test = X_test['States/UTs']\n",
    "X_train = X_train[features]\n",
    "X_test = X_test[features]\n",
    "\n",
    "# print(len(X_train))\n",
    "# print(len(y_train))\n",
    "# print(len(X_test))\n",
    "# print(len(y_test))\n",
    "\n",
    "clf =LinearRegression()\n",
    "\n",
    "clf.fit(X_train, y_train)\n",
    "\n",
    "# print(clf.predict(X_test))\n",
    "\n",
    "\n",
    "preds = clf.predict(X_test)\n",
    "#print(pd.crosstab(y_test, clf.predict(X_test), rownames=['Actual'], colnames=['Predicted']))\n",
    "\n",
    "#print(score_score(y_test, preds))\n",
    "print(max_error(y_test, preds))\n",
    "print(y_test,preds)\n",
    "print(explained_variance_score(y_test, preds))\n",
    "print(mean_absolute_error(y_test,preds))\n",
    "print(mean_squared_error(y_test,preds))\n",
    "print(clf.score(X_train,y_train))"
   ]
  },
  {
   "cell_type": "code",
   "execution_count": 9,
   "id": "junior-hampton",
   "metadata": {},
   "outputs": [
    {
     "name": "stdout",
     "output_type": "stream",
     "text": [
      "27\n",
      "27\n"
     ]
    }
   ],
   "source": [
    "df = pd.read_csv(\"data/StateWise1996-2020.csv\", header=None)\n",
    "data1 = df[df[0]==\"Goa\"]\n",
    "test=data1[data1[1]==\"RAPE\"]\n",
    "X = df.iloc[0,2:].values\n",
    "y = test.iloc[:,2:].values[0]\n",
    "print(len(X))\n",
    "print(len(y))"
   ]
  },
  {
   "cell_type": "code",
   "execution_count": 11,
   "id": "nearby-louisiana",
   "metadata": {},
   "outputs": [
    {
     "ename": "FileNotFoundError",
     "evalue": "[Errno 2] No such file or directory: 'children_linear_regression'",
     "output_type": "error",
     "traceback": [
      "\u001b[1;31m---------------------------------------------------------------------------\u001b[0m",
      "\u001b[1;31mFileNotFoundError\u001b[0m                         Traceback (most recent call last)",
      "\u001b[1;32mc:\\Users\\HP\\crime-dashboard-for-India\\Jupyter Notebooks\\predictions.ipynb Cell 8'\u001b[0m in \u001b[0;36m<cell line: 2>\u001b[1;34m()\u001b[0m\n\u001b[0;32m      <a href='vscode-notebook-cell:/c%3A/Users/HP/crime-dashboard-for-India/Jupyter%20Notebooks/predictions.ipynb#ch0000007?line=0'>1</a>\u001b[0m filename_dt \u001b[39m=\u001b[39m \u001b[39m'\u001b[39m\u001b[39mchildren_linear_regression\u001b[39m\u001b[39m'\u001b[39m\n\u001b[1;32m----> <a href='vscode-notebook-cell:/c%3A/Users/HP/crime-dashboard-for-India/Jupyter%20Notebooks/predictions.ipynb#ch0000007?line=1'>2</a>\u001b[0m loaded_linear_regression \u001b[39m=\u001b[39m pickle\u001b[39m.\u001b[39mload(\u001b[39mopen\u001b[39;49m(filename_dt, \u001b[39m'\u001b[39;49m\u001b[39mrb\u001b[39;49m\u001b[39m'\u001b[39;49m))\n\u001b[0;32m      <a href='vscode-notebook-cell:/c%3A/Users/HP/crime-dashboard-for-India/Jupyter%20Notebooks/predictions.ipynb#ch0000007?line=2'>3</a>\u001b[0m \u001b[39mfor\u001b[39;00m j \u001b[39min\u001b[39;00m \u001b[39mrange\u001b[39m(\u001b[39m2017\u001b[39m,\u001b[39m2020\u001b[39m\u001b[39m+\u001b[39m\u001b[39m1\u001b[39m):\n\u001b[0;32m      <a href='vscode-notebook-cell:/c%3A/Users/HP/crime-dashboard-for-India/Jupyter%20Notebooks/predictions.ipynb#ch0000007?line=3'>4</a>\u001b[0m     predicted \u001b[39m=\u001b[39m loaded_linear_regression\u001b[39m.\u001b[39mpredict(np\u001b[39m.\u001b[39marray([[j]]))\n",
      "\u001b[1;31mFileNotFoundError\u001b[0m: [Errno 2] No such file or directory: 'children_linear_regression'"
     ]
    }
   ],
   "source": [
    "filename_dt = 'children_linear_regression'\n",
    "loaded_linear_regression = pickle.load(open(filename_dt, 'rb'))\n",
    "for j in range(2017,2020+1):\n",
    "    predicted = loaded_linear_regression.predict(np.array([[j]]))\n",
    "    if(predicted < 0):\n",
    "        predicted = 0\n",
    "    print(predicted)"
   ]
  },
  {
   "cell_type": "code",
   "execution_count": 12,
   "id": "frequent-commissioner",
   "metadata": {},
   "outputs": [
    {
     "ename": "FileNotFoundError",
     "evalue": "[Errno 2] No such file or directory: 'data/statewise_crime_against_women_2006_20.csv'",
     "output_type": "error",
     "traceback": [
      "\u001b[1;31m---------------------------------------------------------------------------\u001b[0m",
      "\u001b[1;31mFileNotFoundError\u001b[0m                         Traceback (most recent call last)",
      "\u001b[1;32mc:\\Users\\HP\\crime-dashboard-for-India\\Jupyter Notebooks\\predictions.ipynb Cell 6'\u001b[0m in \u001b[0;36m<cell line: 2>\u001b[1;34m()\u001b[0m\n\u001b[0;32m      <a href='vscode-notebook-cell:/c%3A/Users/HP/crime-dashboard-for-India/Jupyter%20Notebooks/predictions.ipynb#ch0000005?line=0'>1</a>\u001b[0m \u001b[39mfrom\u001b[39;00m \u001b[39msklearn\u001b[39;00m\u001b[39m.\u001b[39;00m\u001b[39mmodel_selection\u001b[39;00m \u001b[39mimport\u001b[39;00m train_test_split\n\u001b[1;32m----> <a href='vscode-notebook-cell:/c%3A/Users/HP/crime-dashboard-for-India/Jupyter%20Notebooks/predictions.ipynb#ch0000005?line=1'>2</a>\u001b[0m data \u001b[39m=\u001b[39m pd\u001b[39m.\u001b[39;49mread_csv(\u001b[39m\"\u001b[39;49m\u001b[39mdata/statewise_crime_against_women_2006_20.csv\u001b[39;49m\u001b[39m\"\u001b[39;49m, header\u001b[39m=\u001b[39;49m\u001b[39mNone\u001b[39;49;00m)\n\u001b[0;32m      <a href='vscode-notebook-cell:/c%3A/Users/HP/crime-dashboard-for-India/Jupyter%20Notebooks/predictions.ipynb#ch0000005?line=2'>3</a>\u001b[0m data\u001b[39m.\u001b[39mhead()\n",
      "File \u001b[1;32mc:\\Users\\HP\\AppData\\Local\\Programs\\Python\\Python38\\lib\\site-packages\\pandas\\util\\_decorators.py:311\u001b[0m, in \u001b[0;36mdeprecate_nonkeyword_arguments.<locals>.decorate.<locals>.wrapper\u001b[1;34m(*args, **kwargs)\u001b[0m\n\u001b[0;32m    305\u001b[0m \u001b[39mif\u001b[39;00m \u001b[39mlen\u001b[39m(args) \u001b[39m>\u001b[39m num_allow_args:\n\u001b[0;32m    306\u001b[0m     warnings\u001b[39m.\u001b[39mwarn(\n\u001b[0;32m    307\u001b[0m         msg\u001b[39m.\u001b[39mformat(arguments\u001b[39m=\u001b[39marguments),\n\u001b[0;32m    308\u001b[0m         \u001b[39mFutureWarning\u001b[39;00m,\n\u001b[0;32m    309\u001b[0m         stacklevel\u001b[39m=\u001b[39mstacklevel,\n\u001b[0;32m    310\u001b[0m     )\n\u001b[1;32m--> 311\u001b[0m \u001b[39mreturn\u001b[39;00m func(\u001b[39m*\u001b[39;49margs, \u001b[39m*\u001b[39;49m\u001b[39m*\u001b[39;49mkwargs)\n",
      "File \u001b[1;32mc:\\Users\\HP\\AppData\\Local\\Programs\\Python\\Python38\\lib\\site-packages\\pandas\\io\\parsers\\readers.py:680\u001b[0m, in \u001b[0;36mread_csv\u001b[1;34m(filepath_or_buffer, sep, delimiter, header, names, index_col, usecols, squeeze, prefix, mangle_dupe_cols, dtype, engine, converters, true_values, false_values, skipinitialspace, skiprows, skipfooter, nrows, na_values, keep_default_na, na_filter, verbose, skip_blank_lines, parse_dates, infer_datetime_format, keep_date_col, date_parser, dayfirst, cache_dates, iterator, chunksize, compression, thousands, decimal, lineterminator, quotechar, quoting, doublequote, escapechar, comment, encoding, encoding_errors, dialect, error_bad_lines, warn_bad_lines, on_bad_lines, delim_whitespace, low_memory, memory_map, float_precision, storage_options)\u001b[0m\n\u001b[0;32m    665\u001b[0m kwds_defaults \u001b[39m=\u001b[39m _refine_defaults_read(\n\u001b[0;32m    666\u001b[0m     dialect,\n\u001b[0;32m    667\u001b[0m     delimiter,\n\u001b[1;32m   (...)\u001b[0m\n\u001b[0;32m    676\u001b[0m     defaults\u001b[39m=\u001b[39m{\u001b[39m\"\u001b[39m\u001b[39mdelimiter\u001b[39m\u001b[39m\"\u001b[39m: \u001b[39m\"\u001b[39m\u001b[39m,\u001b[39m\u001b[39m\"\u001b[39m},\n\u001b[0;32m    677\u001b[0m )\n\u001b[0;32m    678\u001b[0m kwds\u001b[39m.\u001b[39mupdate(kwds_defaults)\n\u001b[1;32m--> 680\u001b[0m \u001b[39mreturn\u001b[39;00m _read(filepath_or_buffer, kwds)\n",
      "File \u001b[1;32mc:\\Users\\HP\\AppData\\Local\\Programs\\Python\\Python38\\lib\\site-packages\\pandas\\io\\parsers\\readers.py:575\u001b[0m, in \u001b[0;36m_read\u001b[1;34m(filepath_or_buffer, kwds)\u001b[0m\n\u001b[0;32m    572\u001b[0m _validate_names(kwds\u001b[39m.\u001b[39mget(\u001b[39m\"\u001b[39m\u001b[39mnames\u001b[39m\u001b[39m\"\u001b[39m, \u001b[39mNone\u001b[39;00m))\n\u001b[0;32m    574\u001b[0m \u001b[39m# Create the parser.\u001b[39;00m\n\u001b[1;32m--> 575\u001b[0m parser \u001b[39m=\u001b[39m TextFileReader(filepath_or_buffer, \u001b[39m*\u001b[39;49m\u001b[39m*\u001b[39;49mkwds)\n\u001b[0;32m    577\u001b[0m \u001b[39mif\u001b[39;00m chunksize \u001b[39mor\u001b[39;00m iterator:\n\u001b[0;32m    578\u001b[0m     \u001b[39mreturn\u001b[39;00m parser\n",
      "File \u001b[1;32mc:\\Users\\HP\\AppData\\Local\\Programs\\Python\\Python38\\lib\\site-packages\\pandas\\io\\parsers\\readers.py:933\u001b[0m, in \u001b[0;36mTextFileReader.__init__\u001b[1;34m(self, f, engine, **kwds)\u001b[0m\n\u001b[0;32m    930\u001b[0m     \u001b[39mself\u001b[39m\u001b[39m.\u001b[39moptions[\u001b[39m\"\u001b[39m\u001b[39mhas_index_names\u001b[39m\u001b[39m\"\u001b[39m] \u001b[39m=\u001b[39m kwds[\u001b[39m\"\u001b[39m\u001b[39mhas_index_names\u001b[39m\u001b[39m\"\u001b[39m]\n\u001b[0;32m    932\u001b[0m \u001b[39mself\u001b[39m\u001b[39m.\u001b[39mhandles: IOHandles \u001b[39m|\u001b[39m \u001b[39mNone\u001b[39;00m \u001b[39m=\u001b[39m \u001b[39mNone\u001b[39;00m\n\u001b[1;32m--> 933\u001b[0m \u001b[39mself\u001b[39m\u001b[39m.\u001b[39m_engine \u001b[39m=\u001b[39m \u001b[39mself\u001b[39;49m\u001b[39m.\u001b[39;49m_make_engine(f, \u001b[39mself\u001b[39;49m\u001b[39m.\u001b[39;49mengine)\n",
      "File \u001b[1;32mc:\\Users\\HP\\AppData\\Local\\Programs\\Python\\Python38\\lib\\site-packages\\pandas\\io\\parsers\\readers.py:1217\u001b[0m, in \u001b[0;36mTextFileReader._make_engine\u001b[1;34m(self, f, engine)\u001b[0m\n\u001b[0;32m   1213\u001b[0m     mode \u001b[39m=\u001b[39m \u001b[39m\"\u001b[39m\u001b[39mrb\u001b[39m\u001b[39m\"\u001b[39m\n\u001b[0;32m   1214\u001b[0m \u001b[39m# error: No overload variant of \"get_handle\" matches argument types\u001b[39;00m\n\u001b[0;32m   1215\u001b[0m \u001b[39m# \"Union[str, PathLike[str], ReadCsvBuffer[bytes], ReadCsvBuffer[str]]\"\u001b[39;00m\n\u001b[0;32m   1216\u001b[0m \u001b[39m# , \"str\", \"bool\", \"Any\", \"Any\", \"Any\", \"Any\", \"Any\"\u001b[39;00m\n\u001b[1;32m-> 1217\u001b[0m \u001b[39mself\u001b[39m\u001b[39m.\u001b[39mhandles \u001b[39m=\u001b[39m get_handle(  \u001b[39m# type: ignore[call-overload]\u001b[39;49;00m\n\u001b[0;32m   1218\u001b[0m     f,\n\u001b[0;32m   1219\u001b[0m     mode,\n\u001b[0;32m   1220\u001b[0m     encoding\u001b[39m=\u001b[39;49m\u001b[39mself\u001b[39;49m\u001b[39m.\u001b[39;49moptions\u001b[39m.\u001b[39;49mget(\u001b[39m\"\u001b[39;49m\u001b[39mencoding\u001b[39;49m\u001b[39m\"\u001b[39;49m, \u001b[39mNone\u001b[39;49;00m),\n\u001b[0;32m   1221\u001b[0m     compression\u001b[39m=\u001b[39;49m\u001b[39mself\u001b[39;49m\u001b[39m.\u001b[39;49moptions\u001b[39m.\u001b[39;49mget(\u001b[39m\"\u001b[39;49m\u001b[39mcompression\u001b[39;49m\u001b[39m\"\u001b[39;49m, \u001b[39mNone\u001b[39;49;00m),\n\u001b[0;32m   1222\u001b[0m     memory_map\u001b[39m=\u001b[39;49m\u001b[39mself\u001b[39;49m\u001b[39m.\u001b[39;49moptions\u001b[39m.\u001b[39;49mget(\u001b[39m\"\u001b[39;49m\u001b[39mmemory_map\u001b[39;49m\u001b[39m\"\u001b[39;49m, \u001b[39mFalse\u001b[39;49;00m),\n\u001b[0;32m   1223\u001b[0m     is_text\u001b[39m=\u001b[39;49mis_text,\n\u001b[0;32m   1224\u001b[0m     errors\u001b[39m=\u001b[39;49m\u001b[39mself\u001b[39;49m\u001b[39m.\u001b[39;49moptions\u001b[39m.\u001b[39;49mget(\u001b[39m\"\u001b[39;49m\u001b[39mencoding_errors\u001b[39;49m\u001b[39m\"\u001b[39;49m, \u001b[39m\"\u001b[39;49m\u001b[39mstrict\u001b[39;49m\u001b[39m\"\u001b[39;49m),\n\u001b[0;32m   1225\u001b[0m     storage_options\u001b[39m=\u001b[39;49m\u001b[39mself\u001b[39;49m\u001b[39m.\u001b[39;49moptions\u001b[39m.\u001b[39;49mget(\u001b[39m\"\u001b[39;49m\u001b[39mstorage_options\u001b[39;49m\u001b[39m\"\u001b[39;49m, \u001b[39mNone\u001b[39;49;00m),\n\u001b[0;32m   1226\u001b[0m )\n\u001b[0;32m   1227\u001b[0m \u001b[39massert\u001b[39;00m \u001b[39mself\u001b[39m\u001b[39m.\u001b[39mhandles \u001b[39mis\u001b[39;00m \u001b[39mnot\u001b[39;00m \u001b[39mNone\u001b[39;00m\n\u001b[0;32m   1228\u001b[0m f \u001b[39m=\u001b[39m \u001b[39mself\u001b[39m\u001b[39m.\u001b[39mhandles\u001b[39m.\u001b[39mhandle\n",
      "File \u001b[1;32mc:\\Users\\HP\\AppData\\Local\\Programs\\Python\\Python38\\lib\\site-packages\\pandas\\io\\common.py:789\u001b[0m, in \u001b[0;36mget_handle\u001b[1;34m(path_or_buf, mode, encoding, compression, memory_map, is_text, errors, storage_options)\u001b[0m\n\u001b[0;32m    784\u001b[0m \u001b[39melif\u001b[39;00m \u001b[39misinstance\u001b[39m(handle, \u001b[39mstr\u001b[39m):\n\u001b[0;32m    785\u001b[0m     \u001b[39m# Check whether the filename is to be opened in binary mode.\u001b[39;00m\n\u001b[0;32m    786\u001b[0m     \u001b[39m# Binary mode does not support 'encoding' and 'newline'.\u001b[39;00m\n\u001b[0;32m    787\u001b[0m     \u001b[39mif\u001b[39;00m ioargs\u001b[39m.\u001b[39mencoding \u001b[39mand\u001b[39;00m \u001b[39m\"\u001b[39m\u001b[39mb\u001b[39m\u001b[39m\"\u001b[39m \u001b[39mnot\u001b[39;00m \u001b[39min\u001b[39;00m ioargs\u001b[39m.\u001b[39mmode:\n\u001b[0;32m    788\u001b[0m         \u001b[39m# Encoding\u001b[39;00m\n\u001b[1;32m--> 789\u001b[0m         handle \u001b[39m=\u001b[39m \u001b[39mopen\u001b[39;49m(\n\u001b[0;32m    790\u001b[0m             handle,\n\u001b[0;32m    791\u001b[0m             ioargs\u001b[39m.\u001b[39;49mmode,\n\u001b[0;32m    792\u001b[0m             encoding\u001b[39m=\u001b[39;49mioargs\u001b[39m.\u001b[39;49mencoding,\n\u001b[0;32m    793\u001b[0m             errors\u001b[39m=\u001b[39;49merrors,\n\u001b[0;32m    794\u001b[0m             newline\u001b[39m=\u001b[39;49m\u001b[39m\"\u001b[39;49m\u001b[39m\"\u001b[39;49m,\n\u001b[0;32m    795\u001b[0m         )\n\u001b[0;32m    796\u001b[0m     \u001b[39melse\u001b[39;00m:\n\u001b[0;32m    797\u001b[0m         \u001b[39m# Binary mode\u001b[39;00m\n\u001b[0;32m    798\u001b[0m         handle \u001b[39m=\u001b[39m \u001b[39mopen\u001b[39m(handle, ioargs\u001b[39m.\u001b[39mmode)\n",
      "\u001b[1;31mFileNotFoundError\u001b[0m: [Errno 2] No such file or directory: 'data/statewise_crime_against_women_2006_20.csv'"
     ]
    }
   ],
   "source": [
    "from sklearn.model_selection import train_test_split\n",
    "data = pd.read_csv(\"data/statewise_crime_against_women_2006_20.csv\", header=None)\n",
    "data.head()"
   ]
  },
  {
   "cell_type": "code",
   "execution_count": 10,
   "id": "genetic-drive",
   "metadata": {},
   "outputs": [
    {
     "ename": "KeyError",
     "evalue": "12",
     "output_type": "error",
     "traceback": [
      "\u001b[1;31m---------------------------------------------------------------------------\u001b[0m",
      "\u001b[1;31mKeyError\u001b[0m                                  Traceback (most recent call last)",
      "File \u001b[1;32mc:\\Users\\HP\\AppData\\Local\\Programs\\Python\\Python38\\lib\\site-packages\\pandas\\core\\indexes\\base.py:3621\u001b[0m, in \u001b[0;36mIndex.get_loc\u001b[1;34m(self, key, method, tolerance)\u001b[0m\n\u001b[0;32m   3620\u001b[0m \u001b[39mtry\u001b[39;00m:\n\u001b[1;32m-> 3621\u001b[0m     \u001b[39mreturn\u001b[39;00m \u001b[39mself\u001b[39;49m\u001b[39m.\u001b[39;49m_engine\u001b[39m.\u001b[39;49mget_loc(casted_key)\n\u001b[0;32m   3622\u001b[0m \u001b[39mexcept\u001b[39;00m \u001b[39mKeyError\u001b[39;00m \u001b[39mas\u001b[39;00m err:\n",
      "File \u001b[1;32mc:\\Users\\HP\\AppData\\Local\\Programs\\Python\\Python38\\lib\\site-packages\\pandas\\_libs\\index.pyx:136\u001b[0m, in \u001b[0;36mpandas._libs.index.IndexEngine.get_loc\u001b[1;34m()\u001b[0m\n",
      "File \u001b[1;32mc:\\Users\\HP\\AppData\\Local\\Programs\\Python\\Python38\\lib\\site-packages\\pandas\\_libs\\index.pyx:163\u001b[0m, in \u001b[0;36mpandas._libs.index.IndexEngine.get_loc\u001b[1;34m()\u001b[0m\n",
      "File \u001b[1;32mpandas\\_libs\\hashtable_class_helper.pxi:2131\u001b[0m, in \u001b[0;36mpandas._libs.hashtable.Int64HashTable.get_item\u001b[1;34m()\u001b[0m\n",
      "File \u001b[1;32mpandas\\_libs\\hashtable_class_helper.pxi:2140\u001b[0m, in \u001b[0;36mpandas._libs.hashtable.Int64HashTable.get_item\u001b[1;34m()\u001b[0m\n",
      "\u001b[1;31mKeyError\u001b[0m: 12",
      "\nThe above exception was the direct cause of the following exception:\n",
      "\u001b[1;31mKeyError\u001b[0m                                  Traceback (most recent call last)",
      "\u001b[1;32mc:\\Users\\HP\\crime-dashboard-for-India\\Jupyter Notebooks\\predictions.ipynb Cell 7'\u001b[0m in \u001b[0;36m<cell line: 2>\u001b[1;34m()\u001b[0m\n\u001b[0;32m      <a href='vscode-notebook-cell:/c%3A/Users/HP/crime-dashboard-for-India/Jupyter%20Notebooks/predictions.ipynb#ch0000006?line=0'>1</a>\u001b[0m X\u001b[39m=\u001b[39mnp\u001b[39m.\u001b[39marray(data[\u001b[39m0\u001b[39m])[\u001b[39m1\u001b[39m:]\n\u001b[1;32m----> <a href='vscode-notebook-cell:/c%3A/Users/HP/crime-dashboard-for-India/Jupyter%20Notebooks/predictions.ipynb#ch0000006?line=1'>2</a>\u001b[0m y\u001b[39m=\u001b[39mnp\u001b[39m.\u001b[39marray(data[\u001b[39m12\u001b[39;49m])[\u001b[39m1\u001b[39m:]\n\u001b[0;32m      <a href='vscode-notebook-cell:/c%3A/Users/HP/crime-dashboard-for-India/Jupyter%20Notebooks/predictions.ipynb#ch0000006?line=2'>3</a>\u001b[0m linear_regression\u001b[39m=\u001b[39mLinearRegression()\n\u001b[0;32m      <a href='vscode-notebook-cell:/c%3A/Users/HP/crime-dashboard-for-India/Jupyter%20Notebooks/predictions.ipynb#ch0000006?line=3'>4</a>\u001b[0m \u001b[39mprint\u001b[39m(\u001b[39mlen\u001b[39m(X),\u001b[39mlen\u001b[39m(y))\n",
      "File \u001b[1;32mc:\\Users\\HP\\AppData\\Local\\Programs\\Python\\Python38\\lib\\site-packages\\pandas\\core\\frame.py:3505\u001b[0m, in \u001b[0;36mDataFrame.__getitem__\u001b[1;34m(self, key)\u001b[0m\n\u001b[0;32m   3503\u001b[0m \u001b[39mif\u001b[39;00m \u001b[39mself\u001b[39m\u001b[39m.\u001b[39mcolumns\u001b[39m.\u001b[39mnlevels \u001b[39m>\u001b[39m \u001b[39m1\u001b[39m:\n\u001b[0;32m   3504\u001b[0m     \u001b[39mreturn\u001b[39;00m \u001b[39mself\u001b[39m\u001b[39m.\u001b[39m_getitem_multilevel(key)\n\u001b[1;32m-> 3505\u001b[0m indexer \u001b[39m=\u001b[39m \u001b[39mself\u001b[39;49m\u001b[39m.\u001b[39;49mcolumns\u001b[39m.\u001b[39;49mget_loc(key)\n\u001b[0;32m   3506\u001b[0m \u001b[39mif\u001b[39;00m is_integer(indexer):\n\u001b[0;32m   3507\u001b[0m     indexer \u001b[39m=\u001b[39m [indexer]\n",
      "File \u001b[1;32mc:\\Users\\HP\\AppData\\Local\\Programs\\Python\\Python38\\lib\\site-packages\\pandas\\core\\indexes\\base.py:3623\u001b[0m, in \u001b[0;36mIndex.get_loc\u001b[1;34m(self, key, method, tolerance)\u001b[0m\n\u001b[0;32m   3621\u001b[0m     \u001b[39mreturn\u001b[39;00m \u001b[39mself\u001b[39m\u001b[39m.\u001b[39m_engine\u001b[39m.\u001b[39mget_loc(casted_key)\n\u001b[0;32m   3622\u001b[0m \u001b[39mexcept\u001b[39;00m \u001b[39mKeyError\u001b[39;00m \u001b[39mas\u001b[39;00m err:\n\u001b[1;32m-> 3623\u001b[0m     \u001b[39mraise\u001b[39;00m \u001b[39mKeyError\u001b[39;00m(key) \u001b[39mfrom\u001b[39;00m \u001b[39merr\u001b[39;00m\n\u001b[0;32m   3624\u001b[0m \u001b[39mexcept\u001b[39;00m \u001b[39mTypeError\u001b[39;00m:\n\u001b[0;32m   3625\u001b[0m     \u001b[39m# If we have a listlike key, _check_indexing_error will raise\u001b[39;00m\n\u001b[0;32m   3626\u001b[0m     \u001b[39m#  InvalidIndexError. Otherwise we fall through and re-raise\u001b[39;00m\n\u001b[0;32m   3627\u001b[0m     \u001b[39m#  the TypeError.\u001b[39;00m\n\u001b[0;32m   3628\u001b[0m     \u001b[39mself\u001b[39m\u001b[39m.\u001b[39m_check_indexing_error(key)\n",
      "\u001b[1;31mKeyError\u001b[0m: 12"
     ]
    }
   ],
   "source": [
    "X=np.array(data[0])[1:]\n",
    "y=np.array(data[12])[1:]\n",
    "linear_regression=LinearRegression()\n",
    "print(len(X),len(y))\n",
    "linear_regression.fit(X.reshape(-1,1),y)\n",
    "print(linear_regression.score(X.reshape(-1,1),y))\n",
    "print(X,y)"
   ]
  },
  {
   "cell_type": "code",
   "execution_count": 11,
   "id": "taken-think",
   "metadata": {},
   "outputs": [
    {
     "ename": "NameError",
     "evalue": "name 'linear_regression' is not defined",
     "output_type": "error",
     "traceback": [
      "\u001b[1;31m---------------------------------------------------------------------------\u001b[0m",
      "\u001b[1;31mNameError\u001b[0m                                 Traceback (most recent call last)",
      "\u001b[1;32mc:\\Users\\HP\\crime-dashboard-for-India\\Jupyter Notebooks\\predictions.ipynb Cell 8'\u001b[0m in \u001b[0;36m<cell line: 2>\u001b[1;34m()\u001b[0m\n\u001b[0;32m      <a href='vscode-notebook-cell:/c%3A/Users/HP/crime-dashboard-for-India/Jupyter%20Notebooks/predictions.ipynb#ch0000007?line=0'>1</a>\u001b[0m \u001b[39mimport\u001b[39;00m \u001b[39mpickle\u001b[39;00m\n\u001b[1;32m----> <a href='vscode-notebook-cell:/c%3A/Users/HP/crime-dashboard-for-India/Jupyter%20Notebooks/predictions.ipynb#ch0000007?line=1'>2</a>\u001b[0m pickle\u001b[39m.\u001b[39mdump(linear_regression,\u001b[39mopen\u001b[39m(\u001b[39m'\u001b[39m\u001b[39mwomen_linear_regression\u001b[39m\u001b[39m'\u001b[39m,\u001b[39m'\u001b[39m\u001b[39mwb\u001b[39m\u001b[39m'\u001b[39m))\n",
      "\u001b[1;31mNameError\u001b[0m: name 'linear_regression' is not defined"
     ]
    }
   ],
   "source": [
    "import pickle\n",
    "pickle.dump(linear_regression,open('women_linear_regression','wb'))"
   ]
  },
  {
   "cell_type": "code",
   "execution_count": 12,
   "id": "progressive-tolerance",
   "metadata": {},
   "outputs": [
    {
     "ename": "FileNotFoundError",
     "evalue": "[Errno 2] No such file or directory: 'women_linear_regression'",
     "output_type": "error",
     "traceback": [
      "\u001b[1;31m---------------------------------------------------------------------------\u001b[0m",
      "\u001b[1;31mFileNotFoundError\u001b[0m                         Traceback (most recent call last)",
      "\u001b[1;32mc:\\Users\\HP\\crime-dashboard-for-India\\Jupyter Notebooks\\predictions.ipynb Cell 9'\u001b[0m in \u001b[0;36m<cell line: 2>\u001b[1;34m()\u001b[0m\n\u001b[0;32m      <a href='vscode-notebook-cell:/c%3A/Users/HP/crime-dashboard-for-India/Jupyter%20Notebooks/predictions.ipynb#ch0000008?line=0'>1</a>\u001b[0m filename_dt \u001b[39m=\u001b[39m \u001b[39m'\u001b[39m\u001b[39mwomen_linear_regression\u001b[39m\u001b[39m'\u001b[39m\n\u001b[1;32m----> <a href='vscode-notebook-cell:/c%3A/Users/HP/crime-dashboard-for-India/Jupyter%20Notebooks/predictions.ipynb#ch0000008?line=1'>2</a>\u001b[0m loaded_linear_regression \u001b[39m=\u001b[39m pickle\u001b[39m.\u001b[39mload(\u001b[39mopen\u001b[39;49m(filename_dt, \u001b[39m'\u001b[39;49m\u001b[39mrb\u001b[39;49m\u001b[39m'\u001b[39;49m))\n\u001b[0;32m      <a href='vscode-notebook-cell:/c%3A/Users/HP/crime-dashboard-for-India/Jupyter%20Notebooks/predictions.ipynb#ch0000008?line=2'>3</a>\u001b[0m \u001b[39mfor\u001b[39;00m j \u001b[39min\u001b[39;00m \u001b[39mrange\u001b[39m(\u001b[39m2017\u001b[39m,\u001b[39m2020\u001b[39m\u001b[39m+\u001b[39m\u001b[39m1\u001b[39m):\n\u001b[0;32m      <a href='vscode-notebook-cell:/c%3A/Users/HP/crime-dashboard-for-India/Jupyter%20Notebooks/predictions.ipynb#ch0000008?line=3'>4</a>\u001b[0m     predicted \u001b[39m=\u001b[39m loaded_linear_regression\u001b[39m.\u001b[39mpredict(np\u001b[39m.\u001b[39marray([[j]]))\n",
      "\u001b[1;31mFileNotFoundError\u001b[0m: [Errno 2] No such file or directory: 'women_linear_regression'"
     ]
    }
   ],
   "source": [
    "filename_dt = 'women_linear_regression'\n",
    "loaded_linear_regression = pickle.load(open(filename_dt, 'rb'))\n",
    "for j in range(2017,2020+1):\n",
    "    predicted = loaded_linear_regression.predict(np.array([[j]]))\n",
    "    if(predicted < 0):\n",
    "        predicted = 0\n",
    "    print(predicted)"
   ]
  },
  {
   "cell_type": "code",
   "execution_count": 13,
   "id": "serious-monitor",
   "metadata": {},
   "outputs": [
    {
     "data": {
      "text/html": [
       "<div>\n",
       "<style scoped>\n",
       "    .dataframe tbody tr th:only-of-type {\n",
       "        vertical-align: middle;\n",
       "    }\n",
       "\n",
       "    .dataframe tbody tr th {\n",
       "        vertical-align: top;\n",
       "    }\n",
       "\n",
       "    .dataframe thead th {\n",
       "        text-align: right;\n",
       "    }\n",
       "</style>\n",
       "<table border=\"1\" class=\"dataframe\">\n",
       "  <thead>\n",
       "    <tr style=\"text-align: right;\">\n",
       "      <th></th>\n",
       "      <th>0</th>\n",
       "      <th>1</th>\n",
       "      <th>2</th>\n",
       "      <th>3</th>\n",
       "      <th>4</th>\n",
       "      <th>5</th>\n",
       "      <th>6</th>\n",
       "      <th>7</th>\n",
       "      <th>8</th>\n",
       "      <th>9</th>\n",
       "      <th>...</th>\n",
       "      <th>15</th>\n",
       "      <th>16</th>\n",
       "      <th>17</th>\n",
       "      <th>18</th>\n",
       "      <th>19</th>\n",
       "      <th>20</th>\n",
       "      <th>21</th>\n",
       "      <th>22</th>\n",
       "      <th>23</th>\n",
       "      <th>24</th>\n",
       "    </tr>\n",
       "  </thead>\n",
       "  <tbody>\n",
       "    <tr>\n",
       "      <th>0</th>\n",
       "      <td>STATE/UT</td>\n",
       "      <td>CRIME HEAD</td>\n",
       "      <td>1994</td>\n",
       "      <td>1995</td>\n",
       "      <td>1996</td>\n",
       "      <td>1997</td>\n",
       "      <td>1998</td>\n",
       "      <td>1999</td>\n",
       "      <td>2000</td>\n",
       "      <td>2001</td>\n",
       "      <td>...</td>\n",
       "      <td>2007</td>\n",
       "      <td>2008</td>\n",
       "      <td>2009</td>\n",
       "      <td>2010</td>\n",
       "      <td>2011</td>\n",
       "      <td>2012</td>\n",
       "      <td>2013</td>\n",
       "      <td>2014</td>\n",
       "      <td>2015</td>\n",
       "      <td>2016</td>\n",
       "    </tr>\n",
       "    <tr>\n",
       "      <th>1</th>\n",
       "      <td>Andhra Pradesh</td>\n",
       "      <td>INFANTICIDE</td>\n",
       "      <td>10</td>\n",
       "      <td>5</td>\n",
       "      <td>2</td>\n",
       "      <td>0</td>\n",
       "      <td>16</td>\n",
       "      <td>10</td>\n",
       "      <td>8</td>\n",
       "      <td>1</td>\n",
       "      <td>...</td>\n",
       "      <td>1</td>\n",
       "      <td>0</td>\n",
       "      <td>9</td>\n",
       "      <td>6</td>\n",
       "      <td>0</td>\n",
       "      <td>8</td>\n",
       "      <td>7</td>\n",
       "      <td>8</td>\n",
       "      <td>6</td>\n",
       "      <td>16</td>\n",
       "    </tr>\n",
       "    <tr>\n",
       "      <th>2</th>\n",
       "      <td>Arunachal Pradesh</td>\n",
       "      <td>INFANTICIDE</td>\n",
       "      <td>0</td>\n",
       "      <td>1</td>\n",
       "      <td>0</td>\n",
       "      <td>0</td>\n",
       "      <td>0</td>\n",
       "      <td>2</td>\n",
       "      <td>0</td>\n",
       "      <td>0</td>\n",
       "      <td>...</td>\n",
       "      <td>0</td>\n",
       "      <td>0</td>\n",
       "      <td>0</td>\n",
       "      <td>0</td>\n",
       "      <td>0</td>\n",
       "      <td>0</td>\n",
       "      <td>0</td>\n",
       "      <td>0</td>\n",
       "      <td>0</td>\n",
       "      <td>0</td>\n",
       "    </tr>\n",
       "    <tr>\n",
       "      <th>3</th>\n",
       "      <td>Assam</td>\n",
       "      <td>INFANTICIDE</td>\n",
       "      <td>0</td>\n",
       "      <td>1</td>\n",
       "      <td>0</td>\n",
       "      <td>0</td>\n",
       "      <td>0</td>\n",
       "      <td>5</td>\n",
       "      <td>4</td>\n",
       "      <td>0</td>\n",
       "      <td>...</td>\n",
       "      <td>0</td>\n",
       "      <td>0</td>\n",
       "      <td>0</td>\n",
       "      <td>0</td>\n",
       "      <td>0</td>\n",
       "      <td>0</td>\n",
       "      <td>0</td>\n",
       "      <td>0</td>\n",
       "      <td>1</td>\n",
       "      <td>0</td>\n",
       "    </tr>\n",
       "    <tr>\n",
       "      <th>4</th>\n",
       "      <td>Bihar</td>\n",
       "      <td>INFANTICIDE</td>\n",
       "      <td>23</td>\n",
       "      <td>9</td>\n",
       "      <td>7</td>\n",
       "      <td>11</td>\n",
       "      <td>11</td>\n",
       "      <td>7</td>\n",
       "      <td>4</td>\n",
       "      <td>0</td>\n",
       "      <td>...</td>\n",
       "      <td>1</td>\n",
       "      <td>1</td>\n",
       "      <td>0</td>\n",
       "      <td>2</td>\n",
       "      <td>3</td>\n",
       "      <td>1</td>\n",
       "      <td>0</td>\n",
       "      <td>1</td>\n",
       "      <td>0</td>\n",
       "      <td>0</td>\n",
       "    </tr>\n",
       "  </tbody>\n",
       "</table>\n",
       "<p>5 rows × 25 columns</p>\n",
       "</div>"
      ],
      "text/plain": [
       "                  0            1     2     3     4     5     6     7     8   \\\n",
       "0           STATE/UT   CRIME HEAD  1994  1995  1996  1997  1998  1999  2000   \n",
       "1     Andhra Pradesh  INFANTICIDE    10     5     2     0    16    10     8   \n",
       "2  Arunachal Pradesh  INFANTICIDE     0     1     0     0     0     2     0   \n",
       "3              Assam  INFANTICIDE     0     1     0     0     0     5     4   \n",
       "4              Bihar  INFANTICIDE    23     9     7    11    11     7     4   \n",
       "\n",
       "     9   ...    15    16    17    18    19    20    21    22    23    24  \n",
       "0  2001  ...  2007  2008  2009  2010  2011  2012  2013  2014  2015  2016  \n",
       "1     1  ...     1     0     9     6     0     8     7     8     6    16  \n",
       "2     0  ...     0     0     0     0     0     0     0     0     0     0  \n",
       "3     0  ...     0     0     0     0     0     0     0     0     1     0  \n",
       "4     0  ...     1     1     0     2     3     1     0     1     0     0  \n",
       "\n",
       "[5 rows x 25 columns]"
      ]
     },
     "execution_count": 13,
     "metadata": {},
     "output_type": "execute_result"
    }
   ],
   "source": [
    "data_children = pd.read_csv(\"data/Statewise Cases Reported of Crimes Committed Against Children 1994-2016.csv\", header=None)\n",
    "data_children.head()"
   ]
  },
  {
   "cell_type": "code",
   "execution_count": 17,
   "id": "unlike-canada",
   "metadata": {},
   "outputs": [
    {
     "name": "stdout",
     "output_type": "stream",
     "text": [
      "['Rape' 'Kidnapping and Abduction' 'Dowry Deaths'\n",
      " 'Assault on women with intent to outrage her modesty'\n",
      " 'Insult to modesty of Women' 'Cruelty by Husband or his Relatives'\n",
      " 'Importation of Girls' 'Total'] ['812' '786' '302' '284' '10' '1261' '3' '3458']\n"
     ]
    },
    {
     "ename": "ValueError",
     "evalue": "could not convert string to float: 'Total'",
     "output_type": "error",
     "traceback": [
      "\u001b[1;31m---------------------------------------------------------------------------\u001b[0m",
      "\u001b[1;31mValueError\u001b[0m                                Traceback (most recent call last)",
      "\u001b[1;32mc:\\Users\\HP\\crime-dashboard-for-India\\Jupyter Notebooks\\predictions.ipynb Cell 11'\u001b[0m in \u001b[0;36m<cell line: 15>\u001b[1;34m()\u001b[0m\n\u001b[0;32m     <a href='vscode-notebook-cell:/c%3A/Users/HP/crime-dashboard-for-India/Jupyter%20Notebooks/predictions.ipynb#ch0000010?line=12'>13</a>\u001b[0m \u001b[39mfrom\u001b[39;00m \u001b[39msklearn\u001b[39;00m\u001b[39m.\u001b[39;00m\u001b[39mlinear_model\u001b[39;00m \u001b[39mimport\u001b[39;00m LinearRegression\n\u001b[0;32m     <a href='vscode-notebook-cell:/c%3A/Users/HP/crime-dashboard-for-India/Jupyter%20Notebooks/predictions.ipynb#ch0000010?line=13'>14</a>\u001b[0m regressor \u001b[39m=\u001b[39m LinearRegression()\n\u001b[1;32m---> <a href='vscode-notebook-cell:/c%3A/Users/HP/crime-dashboard-for-India/Jupyter%20Notebooks/predictions.ipynb#ch0000010?line=14'>15</a>\u001b[0m regressor\u001b[39m.\u001b[39;49mfit(X_train, y_train)\n\u001b[0;32m     <a href='vscode-notebook-cell:/c%3A/Users/HP/crime-dashboard-for-India/Jupyter%20Notebooks/predictions.ipynb#ch0000010?line=15'>16</a>\u001b[0m \u001b[39m# Predicting the Test set results\u001b[39;00m\n\u001b[0;32m     <a href='vscode-notebook-cell:/c%3A/Users/HP/crime-dashboard-for-India/Jupyter%20Notebooks/predictions.ipynb#ch0000010?line=16'>17</a>\u001b[0m y_pred \u001b[39m=\u001b[39m regressor\u001b[39m.\u001b[39mpredict(X_test)\n",
      "File \u001b[1;32mc:\\Users\\HP\\AppData\\Local\\Programs\\Python\\Python38\\lib\\site-packages\\sklearn\\linear_model\\_base.py:684\u001b[0m, in \u001b[0;36mLinearRegression.fit\u001b[1;34m(self, X, y, sample_weight)\u001b[0m\n\u001b[0;32m    680\u001b[0m n_jobs_ \u001b[39m=\u001b[39m \u001b[39mself\u001b[39m\u001b[39m.\u001b[39mn_jobs\n\u001b[0;32m    682\u001b[0m accept_sparse \u001b[39m=\u001b[39m \u001b[39mFalse\u001b[39;00m \u001b[39mif\u001b[39;00m \u001b[39mself\u001b[39m\u001b[39m.\u001b[39mpositive \u001b[39melse\u001b[39;00m [\u001b[39m\"\u001b[39m\u001b[39mcsr\u001b[39m\u001b[39m\"\u001b[39m, \u001b[39m\"\u001b[39m\u001b[39mcsc\u001b[39m\u001b[39m\"\u001b[39m, \u001b[39m\"\u001b[39m\u001b[39mcoo\u001b[39m\u001b[39m\"\u001b[39m]\n\u001b[1;32m--> 684\u001b[0m X, y \u001b[39m=\u001b[39m \u001b[39mself\u001b[39;49m\u001b[39m.\u001b[39;49m_validate_data(\n\u001b[0;32m    685\u001b[0m     X, y, accept_sparse\u001b[39m=\u001b[39;49maccept_sparse, y_numeric\u001b[39m=\u001b[39;49m\u001b[39mTrue\u001b[39;49;00m, multi_output\u001b[39m=\u001b[39;49m\u001b[39mTrue\u001b[39;49;00m\n\u001b[0;32m    686\u001b[0m )\n\u001b[0;32m    688\u001b[0m sample_weight \u001b[39m=\u001b[39m _check_sample_weight(\n\u001b[0;32m    689\u001b[0m     sample_weight, X, dtype\u001b[39m=\u001b[39mX\u001b[39m.\u001b[39mdtype, only_non_negative\u001b[39m=\u001b[39m\u001b[39mTrue\u001b[39;00m\n\u001b[0;32m    690\u001b[0m )\n\u001b[0;32m    692\u001b[0m X, y, X_offset, y_offset, X_scale \u001b[39m=\u001b[39m _preprocess_data(\n\u001b[0;32m    693\u001b[0m     X,\n\u001b[0;32m    694\u001b[0m     y,\n\u001b[1;32m   (...)\u001b[0m\n\u001b[0;32m    698\u001b[0m     sample_weight\u001b[39m=\u001b[39msample_weight,\n\u001b[0;32m    699\u001b[0m )\n",
      "File \u001b[1;32mc:\\Users\\HP\\AppData\\Local\\Programs\\Python\\Python38\\lib\\site-packages\\sklearn\\base.py:596\u001b[0m, in \u001b[0;36mBaseEstimator._validate_data\u001b[1;34m(self, X, y, reset, validate_separately, **check_params)\u001b[0m\n\u001b[0;32m    594\u001b[0m         y \u001b[39m=\u001b[39m check_array(y, input_name\u001b[39m=\u001b[39m\u001b[39m\"\u001b[39m\u001b[39my\u001b[39m\u001b[39m\"\u001b[39m, \u001b[39m*\u001b[39m\u001b[39m*\u001b[39mcheck_y_params)\n\u001b[0;32m    595\u001b[0m     \u001b[39melse\u001b[39;00m:\n\u001b[1;32m--> 596\u001b[0m         X, y \u001b[39m=\u001b[39m check_X_y(X, y, \u001b[39m*\u001b[39;49m\u001b[39m*\u001b[39;49mcheck_params)\n\u001b[0;32m    597\u001b[0m     out \u001b[39m=\u001b[39m X, y\n\u001b[0;32m    599\u001b[0m \u001b[39mif\u001b[39;00m \u001b[39mnot\u001b[39;00m no_val_X \u001b[39mand\u001b[39;00m check_params\u001b[39m.\u001b[39mget(\u001b[39m\"\u001b[39m\u001b[39mensure_2d\u001b[39m\u001b[39m\"\u001b[39m, \u001b[39mTrue\u001b[39;00m):\n",
      "File \u001b[1;32mc:\\Users\\HP\\AppData\\Local\\Programs\\Python\\Python38\\lib\\site-packages\\sklearn\\utils\\validation.py:1074\u001b[0m, in \u001b[0;36mcheck_X_y\u001b[1;34m(X, y, accept_sparse, accept_large_sparse, dtype, order, copy, force_all_finite, ensure_2d, allow_nd, multi_output, ensure_min_samples, ensure_min_features, y_numeric, estimator)\u001b[0m\n\u001b[0;32m   1069\u001b[0m         estimator_name \u001b[39m=\u001b[39m _check_estimator_name(estimator)\n\u001b[0;32m   1070\u001b[0m     \u001b[39mraise\u001b[39;00m \u001b[39mValueError\u001b[39;00m(\n\u001b[0;32m   1071\u001b[0m         \u001b[39mf\u001b[39m\u001b[39m\"\u001b[39m\u001b[39m{\u001b[39;00mestimator_name\u001b[39m}\u001b[39;00m\u001b[39m requires y to be passed, but the target y is None\u001b[39m\u001b[39m\"\u001b[39m\n\u001b[0;32m   1072\u001b[0m     )\n\u001b[1;32m-> 1074\u001b[0m X \u001b[39m=\u001b[39m check_array(\n\u001b[0;32m   1075\u001b[0m     X,\n\u001b[0;32m   1076\u001b[0m     accept_sparse\u001b[39m=\u001b[39;49maccept_sparse,\n\u001b[0;32m   1077\u001b[0m     accept_large_sparse\u001b[39m=\u001b[39;49maccept_large_sparse,\n\u001b[0;32m   1078\u001b[0m     dtype\u001b[39m=\u001b[39;49mdtype,\n\u001b[0;32m   1079\u001b[0m     order\u001b[39m=\u001b[39;49morder,\n\u001b[0;32m   1080\u001b[0m     copy\u001b[39m=\u001b[39;49mcopy,\n\u001b[0;32m   1081\u001b[0m     force_all_finite\u001b[39m=\u001b[39;49mforce_all_finite,\n\u001b[0;32m   1082\u001b[0m     ensure_2d\u001b[39m=\u001b[39;49mensure_2d,\n\u001b[0;32m   1083\u001b[0m     allow_nd\u001b[39m=\u001b[39;49mallow_nd,\n\u001b[0;32m   1084\u001b[0m     ensure_min_samples\u001b[39m=\u001b[39;49mensure_min_samples,\n\u001b[0;32m   1085\u001b[0m     ensure_min_features\u001b[39m=\u001b[39;49mensure_min_features,\n\u001b[0;32m   1086\u001b[0m     estimator\u001b[39m=\u001b[39;49mestimator,\n\u001b[0;32m   1087\u001b[0m     input_name\u001b[39m=\u001b[39;49m\u001b[39m\"\u001b[39;49m\u001b[39mX\u001b[39;49m\u001b[39m\"\u001b[39;49m,\n\u001b[0;32m   1088\u001b[0m )\n\u001b[0;32m   1090\u001b[0m y \u001b[39m=\u001b[39m _check_y(y, multi_output\u001b[39m=\u001b[39mmulti_output, y_numeric\u001b[39m=\u001b[39my_numeric, estimator\u001b[39m=\u001b[39mestimator)\n\u001b[0;32m   1092\u001b[0m check_consistent_length(X, y)\n",
      "File \u001b[1;32mc:\\Users\\HP\\AppData\\Local\\Programs\\Python\\Python38\\lib\\site-packages\\sklearn\\utils\\validation.py:856\u001b[0m, in \u001b[0;36mcheck_array\u001b[1;34m(array, accept_sparse, accept_large_sparse, dtype, order, copy, force_all_finite, ensure_2d, allow_nd, ensure_min_samples, ensure_min_features, estimator, input_name)\u001b[0m\n\u001b[0;32m    854\u001b[0m         array \u001b[39m=\u001b[39m array\u001b[39m.\u001b[39mastype(dtype, casting\u001b[39m=\u001b[39m\u001b[39m\"\u001b[39m\u001b[39munsafe\u001b[39m\u001b[39m\"\u001b[39m, copy\u001b[39m=\u001b[39m\u001b[39mFalse\u001b[39;00m)\n\u001b[0;32m    855\u001b[0m     \u001b[39melse\u001b[39;00m:\n\u001b[1;32m--> 856\u001b[0m         array \u001b[39m=\u001b[39m np\u001b[39m.\u001b[39;49masarray(array, order\u001b[39m=\u001b[39;49morder, dtype\u001b[39m=\u001b[39;49mdtype)\n\u001b[0;32m    857\u001b[0m \u001b[39mexcept\u001b[39;00m ComplexWarning \u001b[39mas\u001b[39;00m complex_warning:\n\u001b[0;32m    858\u001b[0m     \u001b[39mraise\u001b[39;00m \u001b[39mValueError\u001b[39;00m(\n\u001b[0;32m    859\u001b[0m         \u001b[39m\"\u001b[39m\u001b[39mComplex data not supported\u001b[39m\u001b[39m\\n\u001b[39;00m\u001b[39m{}\u001b[39;00m\u001b[39m\\n\u001b[39;00m\u001b[39m\"\u001b[39m\u001b[39m.\u001b[39mformat(array)\n\u001b[0;32m    860\u001b[0m     ) \u001b[39mfrom\u001b[39;00m \u001b[39mcomplex_warning\u001b[39;00m\n",
      "\u001b[1;31mValueError\u001b[0m: could not convert string to float: 'Total'"
     ]
    }
   ],
   "source": [
    "X=data.iloc[0:1,2:].values[0]\n",
    "y=data.iloc[396:397,2:].values[0]\n",
    "X_train=np.array([])\n",
    "for i in X:\n",
    "    X_train=np.append(X_train,i)\n",
    "y_train=np.array([])\n",
    "for i in y:\n",
    "    y_train=np.append(y_train,i)\n",
    "print(X_train,y_train)\n"
   ]
  },
  {
   "cell_type": "code",
   "execution_count": 15,
   "id": "foster-residence",
   "metadata": {},
   "outputs": [
    {
     "ename": "NameError",
     "evalue": "name 'Linearlinear_regression' is not defined",
     "output_type": "error",
     "traceback": [
      "\u001b[1;31m---------------------------------------------------------------------------\u001b[0m",
      "\u001b[1;31mNameError\u001b[0m                                 Traceback (most recent call last)",
      "\u001b[1;32mc:\\Users\\HP\\crime-dashboard-for-India\\Jupyter Notebooks\\predictions.ipynb Cell 12'\u001b[0m in \u001b[0;36m<cell line: 1>\u001b[1;34m()\u001b[0m\n\u001b[1;32m----> <a href='vscode-notebook-cell:/c%3A/Users/HP/crime-dashboard-for-India/Jupyter%20Notebooks/predictions.ipynb#ch0000011?line=0'>1</a>\u001b[0m linear_regression\u001b[39m=\u001b[39mLinearlinear_regression()\n\u001b[0;32m      <a href='vscode-notebook-cell:/c%3A/Users/HP/crime-dashboard-for-India/Jupyter%20Notebooks/predictions.ipynb#ch0000011?line=1'>2</a>\u001b[0m \u001b[39mprint\u001b[39m(\u001b[39mlen\u001b[39m(X_train),\u001b[39mlen\u001b[39m(y_train))\n\u001b[0;32m      <a href='vscode-notebook-cell:/c%3A/Users/HP/crime-dashboard-for-India/Jupyter%20Notebooks/predictions.ipynb#ch0000011?line=2'>3</a>\u001b[0m linear_regression\u001b[39m.\u001b[39mfit(X_train\u001b[39m.\u001b[39mreshape(\u001b[39m-\u001b[39m\u001b[39m1\u001b[39m,\u001b[39m1\u001b[39m),y_train)\n",
      "\u001b[1;31mNameError\u001b[0m: name 'Linearlinear_regression' is not defined"
     ]
    }
   ],
   "source": [
    "linear_regression=Linearlinear_regression()\n",
    "print(len(X_train),len(y_train))\n",
    "linear_regression.fit(X_train.reshape(-1,1),y_train)\n",
    "print(linear_regression.score(X_train.reshape(-1,1),y_train))"
   ]
  },
  {
   "cell_type": "code",
   "execution_count": 19,
   "id": "sustained-foundation",
   "metadata": {},
   "outputs": [],
   "source": [
    "def children_prediction(state,year,crime):\n",
    "    global data_children\n",
    "    data=data_children\n",
    "    year=int(year)\n",
    "    trend=2\n",
    "    length=len(data.columns)\n",
    "    X=data.iloc[0,2:length].values\n",
    "    print(X)\n",
    "    X_train=np.array([X[-4],X[-3],X[-2],X[-1]])\n",
    "    data =data[data [0]==state]\n",
    "    data =data[data [1]==crime]\n",
    "    y=data .iloc[:,2:].values[0]\n",
    "    y_train=np.array([y[-4],y[-3],y[-2],y[-1]])\n",
    "    linear_regression=LinearRegression()\n",
    "    linear_regression.fit(X_train.reshape(-1,1),y_train)\n",
    "    print(len(X_train),len(y_train))\n",
    "    score=linear_regression.score(X_train.reshape(-1,1),y_train)\n",
    "    b=np.array([])\n",
    "    if score < 0.60:\n",
    "        b=np.array([str(i) for i in range(1994,2017)])\n",
    "        y = list(y)\n",
    "        years = list(b)\n",
    "        year = 2016\n",
    "        output = \"Can't predict\"\n",
    "    else:\n",
    "        for j in range(2017,year+1):\n",
    "            prediction = linear_regression.predict(np.array([[j]]))\n",
    "            if(prediction < 0):\n",
    "                prediction = 0\n",
    "            y = np.append(y,prediction)\n",
    "        b=np.array([str(i) for i in range(1994,year+1)])\n",
    "        y = list(y)\n",
    "        years = list(b)\n",
    "        output = \"\"\n",
    "    if output:\n",
    "        print(output)\n",
    "    else:\n",
    "        print(y)\n",
    "    print(b)\n",
    "\n",
    "    return (y,years,output)"
   ]
  },
  {
   "cell_type": "code",
   "execution_count": 22,
   "id": "apart-purchase",
   "metadata": {},
   "outputs": [
    {
     "name": "stdout",
     "output_type": "stream",
     "text": [
      "[1994 1995 1996 1997 1998 1999 2000 2001 2002 2003 2004 2005 2006 2007\n",
      " 2008 2009 2010 2011 2012 2013 2014 2015 2016]\n"
     ]
    },
    {
     "ename": "UnboundLocalError",
     "evalue": "local variable 'LinearRegression' referenced before assignment",
     "output_type": "error",
     "traceback": [
      "\u001b[1;31m---------------------------------------------------------------------------\u001b[0m",
      "\u001b[1;31mUnboundLocalError\u001b[0m                         Traceback (most recent call last)",
      "\u001b[1;32mc:\\Users\\HP\\crime-dashboard-for-India\\Jupyter Notebooks\\predictions.ipynb Cell 14'\u001b[0m in \u001b[0;36m<cell line: 1>\u001b[1;34m()\u001b[0m\n\u001b[1;32m----> <a href='vscode-notebook-cell:/c%3A/Users/HP/crime-dashboard-for-India/Jupyter%20Notebooks/predictions.ipynb#ch0000013?line=0'>1</a>\u001b[0m children_prediction(\u001b[39m\"\u001b[39;49m\u001b[39mGoa\u001b[39;49m\u001b[39m\"\u001b[39;49m,\u001b[39m2018\u001b[39;49m,\u001b[39m\"\u001b[39;49m\u001b[39mRAPE\u001b[39;49m\u001b[39m\"\u001b[39;49m)\n\u001b[0;32m      <a href='vscode-notebook-cell:/c%3A/Users/HP/crime-dashboard-for-India/Jupyter%20Notebooks/predictions.ipynb#ch0000013?line=1'>2</a>\u001b[0m \u001b[39mfrom\u001b[39;00m \u001b[39msklearn\u001b[39;00m\u001b[39m.\u001b[39;00m\u001b[39mmodel_selection\u001b[39;00m \u001b[39mimport\u001b[39;00m train_test_split\n\u001b[0;32m      <a href='vscode-notebook-cell:/c%3A/Users/HP/crime-dashboard-for-India/Jupyter%20Notebooks/predictions.ipynb#ch0000013?line=2'>3</a>\u001b[0m X_train, X_test, y_train, y_test \u001b[39m=\u001b[39m train_test_split(X, y, test_size \u001b[39m=\u001b[39m \u001b[39m1\u001b[39m\u001b[39m/\u001b[39m\u001b[39m3\u001b[39m, random_state \u001b[39m=\u001b[39m \u001b[39m42\u001b[39m)\n",
      "\u001b[1;32mc:\\Users\\HP\\crime-dashboard-for-India\\Jupyter Notebooks\\predictions.ipynb Cell 13'\u001b[0m in \u001b[0;36mchildren_prediction\u001b[1;34m(state, year, crime)\u001b[0m\n\u001b[0;32m     <a href='vscode-notebook-cell:/c%3A/Users/HP/crime-dashboard-for-India/Jupyter%20Notebooks/predictions.ipynb#ch0000012?line=11'>12</a>\u001b[0m y\u001b[39m=\u001b[39mdata \u001b[39m.\u001b[39miloc[:,\u001b[39m2\u001b[39m:]\u001b[39m.\u001b[39mvalues[\u001b[39m0\u001b[39m]\n\u001b[0;32m     <a href='vscode-notebook-cell:/c%3A/Users/HP/crime-dashboard-for-India/Jupyter%20Notebooks/predictions.ipynb#ch0000012?line=12'>13</a>\u001b[0m y_train\u001b[39m=\u001b[39mnp\u001b[39m.\u001b[39marray([y[\u001b[39m-\u001b[39m\u001b[39m4\u001b[39m],y[\u001b[39m-\u001b[39m\u001b[39m3\u001b[39m],y[\u001b[39m-\u001b[39m\u001b[39m2\u001b[39m],y[\u001b[39m-\u001b[39m\u001b[39m1\u001b[39m]])\n\u001b[1;32m---> <a href='vscode-notebook-cell:/c%3A/Users/HP/crime-dashboard-for-India/Jupyter%20Notebooks/predictions.ipynb#ch0000012?line=13'>14</a>\u001b[0m linear_regression\u001b[39m=\u001b[39mLinearRegression()\n\u001b[0;32m     <a href='vscode-notebook-cell:/c%3A/Users/HP/crime-dashboard-for-India/Jupyter%20Notebooks/predictions.ipynb#ch0000012?line=14'>15</a>\u001b[0m linear_regression\u001b[39m.\u001b[39mfit(X_train\u001b[39m.\u001b[39mreshape(\u001b[39m-\u001b[39m\u001b[39m1\u001b[39m,\u001b[39m1\u001b[39m),y_train)\n\u001b[0;32m     <a href='vscode-notebook-cell:/c%3A/Users/HP/crime-dashboard-for-India/Jupyter%20Notebooks/predictions.ipynb#ch0000012?line=15'>16</a>\u001b[0m \u001b[39mprint\u001b[39m(\u001b[39mlen\u001b[39m(X_train),\u001b[39mlen\u001b[39m(y_train))\n",
      "\u001b[1;31mUnboundLocalError\u001b[0m: local variable 'LinearRegression' referenced before assignment"
     ]
    }
   ],
   "source": [
    "    children_prediction(\"Goa\",2018,\"RAPE\")\n",
    "    from sklearn.model_selection import train_test_split\n",
    "    X_train, X_test, y_train, y_test = train_test_split(X, y, test_size = 1/3, random_state = 42)\n",
    "    # Fitting Simple Linear Regression to the Training set\n",
    "    from sklearn.linear_model import LinearRegression\n",
    "    regressor = LinearRegression()\n",
    "    regressor.fit(X_train, y_train)\n",
    "    # Predicting the Test set results\n",
    "    y_pred = regressor.predict(X_test)\n",
    "    print('Coefficients: \\n', regressor.coef_)\n",
    "    # The mean squared error\n",
    "    print(\"Mean squared error: %.2f\" % np.mean((regressor.predict(X_test) - y_test) ** 2))\n",
    "    # Explained variance score: 1 is perfect prediction\n",
    "    print('Variance score: %.2f' % regressor.score(X_test, y_test))"
   ]
  },
  {
   "cell_type": "code",
   "execution_count": null,
   "id": "becoming-darkness",
   "metadata": {},
   "outputs": [
    {
     "data": {
      "image/png": "[encoded data removed]",
      "text/plain": [
       "<Figure size 432x288 with 1 Axes>"
      ]
     },
     "metadata": {
      "needs_background": "light"
     },
     "output_type": "display_data"
    }
   ],
   "source": [
    "import matplotlib.pyplot as plt\n",
    "plt.scatter(X_train, y_train, color = \"red\")\n",
    "plt.plot(X_train, linear_regression.predict(X_train.reshape(-1,1)), color = \"green\")\n",
    "plt.title(state)\n",
    "plt.xlabel('years')\n",
    "plt.ylabel(crime)\n",
    "plt.show()"
   ]
  },
  {
   "cell_type": "code",
   "execution_count": null,
   "id": "cutting-excitement",
   "metadata": {},
   "outputs": [
    {
     "name": "stdout",
     "output_type": "stream",
     "text": [
      "[1994 1995 1996 1997 1998 1999 2000 2001 2002 2003 2004 2005 2006 2007\n",
      " 2008 2009 2010 2011 2012 2013 2014 2015 2016]\n"
     ]
    }
   ],
   "source": [
    "data = pd.read_csv(\"data/Statewise Cases Reported of Crimes Committed Against Children 1994-2016.csv\", header=None)\n",
    "print(data.loc[0:1,2:].values[0])\n",
    "states=[i for i in data[0][1:].unique()]\n",
    "crimes=[i for i in data[1][1:].unique()]\n",
    "#print(crimes,states)\n",
    "data=data[data[0]==state]\n",
    "data=data[data[1]==crime]"
   ]
  },
  {
   "cell_type": "code",
   "execution_count": null,
   "id": "insured-silence",
   "metadata": {},
   "outputs": [],
   "source": [
    "from sklearn.linear_model import LinearRegression\n",
    "import pandas as pd\n",
    "import numpy as np\n",
    "data_children = pd.read_csv(\"data/Statewise Cases Reported of Crimes Committed Against Children 1994-2016.csv\", header=None)\n",
    "children_states=[i for i in data_children[0][1:].unique()]\n",
    "children_crimes=[i for i in data_children[1][1:].unique()]\n",
    "children_years=[2017,2018,2019,2020,2021]\n",
    "def children_prediction(state,year,crime):\n",
    "\tglobal data_children\n",
    "\tprint(state,year,crime)\n",
    "\tX = data_children.iloc[0,2:].values\n",
    "\tX_train=np.array([])\n",
    "\tdata_children=data_children[data_children[0]==state].values\n",
    "\tfor i in data_children:\n",
    "\t\tif i[1] == crime:\n",
    "\t\t\ttest = i\n",
    "\t\t\tbreak\n",
    "\tfor i in X:\n",
    "\t    X_train=np.append(X_train,i)\n",
    "\tprint(data_children)\n",
    "\ty = test[2:]\n",
    "\ty_train=np.array([])\n",
    "\tfor i in y:\n",
    "\t    y_train=np.append(y_train,i)\n",
    "\tlinear_regression=LinearRegression()\n",
    "\tlinear_regression.fit(X_train.reshape(-1,1),y_train)\n",
    "\tprint(len(X_train),len(y_train))\n",
    "\tscore=linear_regression.score(X_train.reshape(-1,1),y_train)\n",
    "\tb=np.array([])\n",
    "\tif score < 0.60:\n",
    "\t\tfor k in range(2001,2017):\n",
    "\t\t\ta = str(k)\n",
    "\t\t\tb = np.append(b,a)\n",
    "\t\ty = list(y)\n",
    "\t\tyears = list(b)\n",
    "\t\toutput = \"Can't predict\"\n",
    "\telse:\n",
    "\t\tfor j in range(2017,year+1):\n",
    "\t\t\tprediction = linear_regression.predict(np.array([[j]]))\n",
    "\t\t\tif(prediction < 0):\n",
    "\t\t\t\tprediction = 0\n",
    "\t\t\ty = np.append(y,prediction)\n",
    "\t\ty = np.append(y,0)\n",
    "\t\tfor k in range(2001,year+1):\n",
    "\t\t\ta = str(k)\n",
    "\t\t\tb = np.append(b,a)\n",
    "\t\ty = list(y)\n",
    "\t\tyears = list(b)\n",
    "\t\toutput = \"\"\n",
    "\tif output:\n",
    "\t    print(output)\n",
    "\telse:\n",
    "\t    print(y)\n",
    "\treturn (y,years,output)"
   ]
  },
  {
   "cell_type": "code",
   "execution_count": null,
   "id": "persistent-miracle",
   "metadata": {},
   "outputs": [
    {
     "name": "stdout",
     "output_type": "stream",
     "text": [
      "Goa 2017 RAPE\n",
      "[['Goa' 'INFANTICIDE' 1 2 0 0 0 1 0 0 0 0 0 0 1 1 0 0 1 0 0 0 0 0 0]\n",
      " ['Goa' 'RAPE' 3 11 5 8 6 11 10 10 7 22 20 15 14 15 18 30 23 20 38 59 57\n",
      "  50 40]\n",
      " ['Goa' 'KIDNAPPING & ABDUCTION' 1 4 1 2 4 3 0 6 4 9 9 11 10 7 24 21 14\n",
      "  17 15 90 134 102 88]\n",
      " ['Goa' 'FOETICIDE' 0 0 0 0 0 0 0 0 0 0 0 0 0 0 0 0 0 0 0 0 0 0 0]\n",
      " ['Goa' 'ABETMENT OF SUICIDE' 0 0 0 0 1 0 0 0 0 0 0 0 1 0 1 0 1 2 1 1 1 0\n",
      "  0]\n",
      " ['Goa' 'EXPOSURE & ABANDONMENT' 1 1 0 6 3 4 2 3 5 5 1 2 8 6 2 6 4 4 4 2\n",
      "  3 6 2]\n",
      " ['Goa' 'PROCURATION OF MINOR GIRLS' 0 2 0 0 0 0 1 2 2 5 1 0 1 0 0 0 1 0\n",
      "  0 0 0 0 0]\n",
      " ['Goa' 'BUYING OF GIRLS FOR PROSTITUTION' 0 0 0 0 0 0 0 0 0 0 0 0 0 0 0\n",
      "  0 0 0 0 0 0 0 0]\n",
      " ['Goa' 'SELLING OF GIRLS FOR PROSTITUTION' 0 0 0 0 0 0 0 0 0 0 0 0 0 0 0\n",
      "  0 0 0 0 0 0 0 0]\n",
      " ['Goa' 'PROHIBITION OF CHILD MARRIAGE ACT, 2006' 0 0 0 0 0 0 0 0 0 0 0 0\n",
      "  0 0 1 0 0 0 0 0 0 0 0]\n",
      " ['Goa' 'TOTAL CRIMES AGAINST CHILDREN' 6 20 6 16 14 19 13 34 31 57 53 53\n",
      "  54 70 80 92 79 75 122 270 330 256 230]]\n",
      "23 23\n",
      "[3, 11, 5, 8, 6, 11, 10, 10, 7, 22, 20, 15, 14, 15, 18, 30, 23, 20, 38, 59, 57, 50, 40, 46.399209486166, 0]\n"
     ]
    },
    {
     "data": {
      "text/plain": [
       "([3,\n",
       "  11,\n",
       "  5,\n",
       "  8,\n",
       "  6,\n",
       "  11,\n",
       "  10,\n",
       "  10,\n",
       "  7,\n",
       "  22,\n",
       "  20,\n",
       "  15,\n",
       "  14,\n",
       "  15,\n",
       "  18,\n",
       "  30,\n",
       "  23,\n",
       "  20,\n",
       "  38,\n",
       "  59,\n",
       "  57,\n",
       "  50,\n",
       "  40,\n",
       "  46.399209486166,\n",
       "  0],\n",
       " ['2001',\n",
       "  '2002',\n",
       "  '2003',\n",
       "  '2004',\n",
       "  '2005',\n",
       "  '2006',\n",
       "  '2007',\n",
       "  '2008',\n",
       "  '2009',\n",
       "  '2010',\n",
       "  '2011',\n",
       "  '2012',\n",
       "  '2013',\n",
       "  '2014',\n",
       "  '2015',\n",
       "  '2016',\n",
       "  '2017'],\n",
       " '')"
      ]
     },
     "execution_count": 15,
     "metadata": {},
     "output_type": "execute_result"
    }
   ],
   "source": [
    "children_prediction('Goa',2017,'RAPE')"
   ]
  },
  {
   "cell_type": "code",
   "execution_count": null,
   "id": "olympic-melissa",
   "metadata": {},
   "outputs": [
    {
     "name": "stdout",
     "output_type": "stream",
     "text": [
      "['Rape', 'Kidnapping and Abduction', 'Dowry Deaths', 'Assault on women with intent to outrage her modesty', 'Insult to modesty of Women', 'Cruelty by Husband or his Relatives', 'Importation of Girls', 'Total']\n",
      "5      2001\n",
      "40     2002\n",
      "75     2003\n",
      "110    2004\n",
      "145    2005\n",
      "180    2006\n",
      "215    2007\n",
      "250    2008\n",
      "285    2009\n",
      "320    2010\n",
      "355    2011\n",
      "390    2012\n",
      "425    2013\n",
      "460    2014\n",
      "495    2015\n",
      "Name: Year, dtype: int64\n"
     ]
    }
   ],
   "source": [
    "state='GOA'\n",
    "crime='Rape'\n",
    "data_women = pd.read_csv(\"data/statewise_crime_against_women_2001_15.csv\")\n",
    "data=data_women\n",
    "print([i for i in data][2:])\n",
    "data=data[data['STATE/UT']==state]\n",
    "print(data['Year'])\n",
    "data=data[crime]"
   ]
  },
  {
   "cell_type": "code",
   "execution_count": 1,
   "id": "literary-prayer",
   "metadata": {},
   "outputs": [
    {
     "ename": "NameError",
     "evalue": "name 'pd' is not defined",
     "output_type": "error",
     "traceback": [
      "\u001b[1;31m---------------------------------------------------------------------------\u001b[0m",
      "\u001b[1;31mNameError\u001b[0m                                 Traceback (most recent call last)",
      "\u001b[1;32mc:\\Users\\HP\\crime-dashboard-for-India\\Jupyter Notebooks\\predictions.ipynb Cell 20'\u001b[0m in \u001b[0;36m<cell line: 1>\u001b[1;34m()\u001b[0m\n\u001b[1;32m----> <a href='vscode-notebook-cell:/c%3A/Users/HP/crime-dashboard-for-India/Jupyter%20Notebooks/predictions.ipynb#ch0000019?line=0'>1</a>\u001b[0m data_women \u001b[39m=\u001b[39m pd\u001b[39m.\u001b[39mread_csv(\u001b[39m\"\u001b[39m\u001b[39mdata/statewise_crime_against_women_2006_20.csv\u001b[39m\u001b[39m\"\u001b[39m)\n\u001b[0;32m      <a href='vscode-notebook-cell:/c%3A/Users/HP/crime-dashboard-for-India/Jupyter%20Notebooks/predictions.ipynb#ch0000019?line=1'>2</a>\u001b[0m \u001b[39mprint\u001b[39m(data_women\u001b[39m.\u001b[39mhead())\n\u001b[0;32m      <a href='vscode-notebook-cell:/c%3A/Users/HP/crime-dashboard-for-India/Jupyter%20Notebooks/predictions.ipynb#ch0000019?line=2'>3</a>\u001b[0m \u001b[39mdef\u001b[39;00m \u001b[39mwomen_prediction\u001b[39m(state,year,crime):\n",
      "\u001b[1;31mNameError\u001b[0m: name 'pd' is not defined"
     ]
    }
   ],
   "source": [
    "data_women = pd.read_csv(\"data/statewise_crime_against_women_2006_20.csv\")\n",
    "print(data_women.head())\n",
    "def women_prediction(state,year,crime):\n",
    "\tglobal data_women\n",
    "\tdata=data_women\n",
    "\tyear=int(year)\n",
    "\tdata =data[data['STATE/UT']==state]\n",
    "\tX=data['Year']\n",
    "\tX_train=np.array([i for i in X])\n",
    "\ty=data[crime]\n",
    "\ty_train=np.array([i for i in y])\n",
    "\tlinear_regression=LinearRegression()\n",
    "\tlinear_regression.fit(X_train.reshape(-1,1),y_train)\n",
    "\tprint(len(X_train),len(y_train))\n",
    "\tscore=linear_regression.score(X_train.reshape(-1,1),y_train)\n",
    "\tb=np.array([])\n",
    "\tif score < 0.60:\n",
    "\t\tb=np.array([str(i) for i in range(1994,2017)])\n",
    "\t\ty = list(y)\n",
    "\t\tyears = list(b)\n",
    "\t\tyear = 2016\n",
    "\t\toutput = \"Can't predict\"\n",
    "\telse:\n",
    "\t\tfor j in range(2017,year+1):\n",
    "\t\t\tprediction = linear_regression.predict(np.array([[j]]))\n",
    "\t\t\tif(prediction < 0):\n",
    "\t\t\t\tprediction = 0\n",
    "\t\t\ty = np.append(y,prediction)\n",
    "\t\tb=np.array([str(i) for i in range(1994,year+1)])\n",
    "\t\ty = list(y)\n",
    "\t\tyears = list(b)\n",
    "\t\toutput = \"\"\n",
    "\tif output:\n",
    "\t\tprint(output)\n",
    "\telse:\n",
    "\t\tprint(y)\n",
    "\tprint(b)"
   ]
  },
  {
   "cell_type": "code",
   "execution_count": 28,
   "id": "crude-columbus",
   "metadata": {},
   "outputs": [
    {
     "ename": "ValueError",
     "evalue": "could not convert string to float: 'Total'",
     "output_type": "error",
     "traceback": [
      "\u001b[1;31m---------------------------------------------------------------------------\u001b[0m",
      "\u001b[1;31mValueError\u001b[0m                                Traceback (most recent call last)",
      "\u001b[1;32mc:\\Users\\HP\\crime-dashboard-for-India\\Jupyter Notebooks\\predictions.ipynb Cell 21'\u001b[0m in \u001b[0;36m<cell line: 7>\u001b[1;34m()\u001b[0m\n\u001b[0;32m      <a href='vscode-notebook-cell:/c%3A/Users/HP/crime-dashboard-for-India/Jupyter%20Notebooks/predictions.ipynb#ch0000020?line=4'>5</a>\u001b[0m \u001b[39mfrom\u001b[39;00m \u001b[39msklearn\u001b[39;00m\u001b[39m.\u001b[39;00m\u001b[39mlinear_model\u001b[39;00m \u001b[39mimport\u001b[39;00m LinearRegression\n\u001b[0;32m      <a href='vscode-notebook-cell:/c%3A/Users/HP/crime-dashboard-for-India/Jupyter%20Notebooks/predictions.ipynb#ch0000020?line=5'>6</a>\u001b[0m regressor \u001b[39m=\u001b[39m LinearRegression()\n\u001b[1;32m----> <a href='vscode-notebook-cell:/c%3A/Users/HP/crime-dashboard-for-India/Jupyter%20Notebooks/predictions.ipynb#ch0000020?line=6'>7</a>\u001b[0m regressor\u001b[39m.\u001b[39;49mfit(X_train, y_train)\n\u001b[0;32m      <a href='vscode-notebook-cell:/c%3A/Users/HP/crime-dashboard-for-India/Jupyter%20Notebooks/predictions.ipynb#ch0000020?line=7'>8</a>\u001b[0m \u001b[39m# Predicting the Test set results\u001b[39;00m\n\u001b[0;32m      <a href='vscode-notebook-cell:/c%3A/Users/HP/crime-dashboard-for-India/Jupyter%20Notebooks/predictions.ipynb#ch0000020?line=8'>9</a>\u001b[0m y_pred \u001b[39m=\u001b[39m regressor\u001b[39m.\u001b[39mpredict(X_test)\n",
      "File \u001b[1;32mc:\\Users\\HP\\AppData\\Local\\Programs\\Python\\Python38\\lib\\site-packages\\sklearn\\linear_model\\_base.py:684\u001b[0m, in \u001b[0;36mLinearRegression.fit\u001b[1;34m(self, X, y, sample_weight)\u001b[0m\n\u001b[0;32m    680\u001b[0m n_jobs_ \u001b[39m=\u001b[39m \u001b[39mself\u001b[39m\u001b[39m.\u001b[39mn_jobs\n\u001b[0;32m    682\u001b[0m accept_sparse \u001b[39m=\u001b[39m \u001b[39mFalse\u001b[39;00m \u001b[39mif\u001b[39;00m \u001b[39mself\u001b[39m\u001b[39m.\u001b[39mpositive \u001b[39melse\u001b[39;00m [\u001b[39m\"\u001b[39m\u001b[39mcsr\u001b[39m\u001b[39m\"\u001b[39m, \u001b[39m\"\u001b[39m\u001b[39mcsc\u001b[39m\u001b[39m\"\u001b[39m, \u001b[39m\"\u001b[39m\u001b[39mcoo\u001b[39m\u001b[39m\"\u001b[39m]\n\u001b[1;32m--> 684\u001b[0m X, y \u001b[39m=\u001b[39m \u001b[39mself\u001b[39;49m\u001b[39m.\u001b[39;49m_validate_data(\n\u001b[0;32m    685\u001b[0m     X, y, accept_sparse\u001b[39m=\u001b[39;49maccept_sparse, y_numeric\u001b[39m=\u001b[39;49m\u001b[39mTrue\u001b[39;49;00m, multi_output\u001b[39m=\u001b[39;49m\u001b[39mTrue\u001b[39;49;00m\n\u001b[0;32m    686\u001b[0m )\n\u001b[0;32m    688\u001b[0m sample_weight \u001b[39m=\u001b[39m _check_sample_weight(\n\u001b[0;32m    689\u001b[0m     sample_weight, X, dtype\u001b[39m=\u001b[39mX\u001b[39m.\u001b[39mdtype, only_non_negative\u001b[39m=\u001b[39m\u001b[39mTrue\u001b[39;00m\n\u001b[0;32m    690\u001b[0m )\n\u001b[0;32m    692\u001b[0m X, y, X_offset, y_offset, X_scale \u001b[39m=\u001b[39m _preprocess_data(\n\u001b[0;32m    693\u001b[0m     X,\n\u001b[0;32m    694\u001b[0m     y,\n\u001b[1;32m   (...)\u001b[0m\n\u001b[0;32m    698\u001b[0m     sample_weight\u001b[39m=\u001b[39msample_weight,\n\u001b[0;32m    699\u001b[0m )\n",
      "File \u001b[1;32mc:\\Users\\HP\\AppData\\Local\\Programs\\Python\\Python38\\lib\\site-packages\\sklearn\\base.py:596\u001b[0m, in \u001b[0;36mBaseEstimator._validate_data\u001b[1;34m(self, X, y, reset, validate_separately, **check_params)\u001b[0m\n\u001b[0;32m    594\u001b[0m         y \u001b[39m=\u001b[39m check_array(y, input_name\u001b[39m=\u001b[39m\u001b[39m\"\u001b[39m\u001b[39my\u001b[39m\u001b[39m\"\u001b[39m, \u001b[39m*\u001b[39m\u001b[39m*\u001b[39mcheck_y_params)\n\u001b[0;32m    595\u001b[0m     \u001b[39melse\u001b[39;00m:\n\u001b[1;32m--> 596\u001b[0m         X, y \u001b[39m=\u001b[39m check_X_y(X, y, \u001b[39m*\u001b[39;49m\u001b[39m*\u001b[39;49mcheck_params)\n\u001b[0;32m    597\u001b[0m     out \u001b[39m=\u001b[39m X, y\n\u001b[0;32m    599\u001b[0m \u001b[39mif\u001b[39;00m \u001b[39mnot\u001b[39;00m no_val_X \u001b[39mand\u001b[39;00m check_params\u001b[39m.\u001b[39mget(\u001b[39m\"\u001b[39m\u001b[39mensure_2d\u001b[39m\u001b[39m\"\u001b[39m, \u001b[39mTrue\u001b[39;00m):\n",
      "File \u001b[1;32mc:\\Users\\HP\\AppData\\Local\\Programs\\Python\\Python38\\lib\\site-packages\\sklearn\\utils\\validation.py:1074\u001b[0m, in \u001b[0;36mcheck_X_y\u001b[1;34m(X, y, accept_sparse, accept_large_sparse, dtype, order, copy, force_all_finite, ensure_2d, allow_nd, multi_output, ensure_min_samples, ensure_min_features, y_numeric, estimator)\u001b[0m\n\u001b[0;32m   1069\u001b[0m         estimator_name \u001b[39m=\u001b[39m _check_estimator_name(estimator)\n\u001b[0;32m   1070\u001b[0m     \u001b[39mraise\u001b[39;00m \u001b[39mValueError\u001b[39;00m(\n\u001b[0;32m   1071\u001b[0m         \u001b[39mf\u001b[39m\u001b[39m\"\u001b[39m\u001b[39m{\u001b[39;00mestimator_name\u001b[39m}\u001b[39;00m\u001b[39m requires y to be passed, but the target y is None\u001b[39m\u001b[39m\"\u001b[39m\n\u001b[0;32m   1072\u001b[0m     )\n\u001b[1;32m-> 1074\u001b[0m X \u001b[39m=\u001b[39m check_array(\n\u001b[0;32m   1075\u001b[0m     X,\n\u001b[0;32m   1076\u001b[0m     accept_sparse\u001b[39m=\u001b[39;49maccept_sparse,\n\u001b[0;32m   1077\u001b[0m     accept_large_sparse\u001b[39m=\u001b[39;49maccept_large_sparse,\n\u001b[0;32m   1078\u001b[0m     dtype\u001b[39m=\u001b[39;49mdtype,\n\u001b[0;32m   1079\u001b[0m     order\u001b[39m=\u001b[39;49morder,\n\u001b[0;32m   1080\u001b[0m     copy\u001b[39m=\u001b[39;49mcopy,\n\u001b[0;32m   1081\u001b[0m     force_all_finite\u001b[39m=\u001b[39;49mforce_all_finite,\n\u001b[0;32m   1082\u001b[0m     ensure_2d\u001b[39m=\u001b[39;49mensure_2d,\n\u001b[0;32m   1083\u001b[0m     allow_nd\u001b[39m=\u001b[39;49mallow_nd,\n\u001b[0;32m   1084\u001b[0m     ensure_min_samples\u001b[39m=\u001b[39;49mensure_min_samples,\n\u001b[0;32m   1085\u001b[0m     ensure_min_features\u001b[39m=\u001b[39;49mensure_min_features,\n\u001b[0;32m   1086\u001b[0m     estimator\u001b[39m=\u001b[39;49mestimator,\n\u001b[0;32m   1087\u001b[0m     input_name\u001b[39m=\u001b[39;49m\u001b[39m\"\u001b[39;49m\u001b[39mX\u001b[39;49m\u001b[39m\"\u001b[39;49m,\n\u001b[0;32m   1088\u001b[0m )\n\u001b[0;32m   1090\u001b[0m y \u001b[39m=\u001b[39m _check_y(y, multi_output\u001b[39m=\u001b[39mmulti_output, y_numeric\u001b[39m=\u001b[39my_numeric, estimator\u001b[39m=\u001b[39mestimator)\n\u001b[0;32m   1092\u001b[0m check_consistent_length(X, y)\n",
      "File \u001b[1;32mc:\\Users\\HP\\AppData\\Local\\Programs\\Python\\Python38\\lib\\site-packages\\sklearn\\utils\\validation.py:856\u001b[0m, in \u001b[0;36mcheck_array\u001b[1;34m(array, accept_sparse, accept_large_sparse, dtype, order, copy, force_all_finite, ensure_2d, allow_nd, ensure_min_samples, ensure_min_features, estimator, input_name)\u001b[0m\n\u001b[0;32m    854\u001b[0m         array \u001b[39m=\u001b[39m array\u001b[39m.\u001b[39mastype(dtype, casting\u001b[39m=\u001b[39m\u001b[39m\"\u001b[39m\u001b[39munsafe\u001b[39m\u001b[39m\"\u001b[39m, copy\u001b[39m=\u001b[39m\u001b[39mFalse\u001b[39;00m)\n\u001b[0;32m    855\u001b[0m     \u001b[39melse\u001b[39;00m:\n\u001b[1;32m--> 856\u001b[0m         array \u001b[39m=\u001b[39m np\u001b[39m.\u001b[39;49masarray(array, order\u001b[39m=\u001b[39;49morder, dtype\u001b[39m=\u001b[39;49mdtype)\n\u001b[0;32m    857\u001b[0m \u001b[39mexcept\u001b[39;00m ComplexWarning \u001b[39mas\u001b[39;00m complex_warning:\n\u001b[0;32m    858\u001b[0m     \u001b[39mraise\u001b[39;00m \u001b[39mValueError\u001b[39;00m(\n\u001b[0;32m    859\u001b[0m         \u001b[39m\"\u001b[39m\u001b[39mComplex data not supported\u001b[39m\u001b[39m\\n\u001b[39;00m\u001b[39m{}\u001b[39;00m\u001b[39m\\n\u001b[39;00m\u001b[39m\"\u001b[39m\u001b[39m.\u001b[39mformat(array)\n\u001b[0;32m    860\u001b[0m     ) \u001b[39mfrom\u001b[39;00m \u001b[39mcomplex_warning\u001b[39;00m\n",
      "\u001b[1;31mValueError\u001b[0m: could not convert string to float: 'Total'"
     ]
    }
   ],
   "source": []
  }
 ],
 "metadata": {
  "kernelspec": {
   "display_name": "Python 3.8.1 64-bit",
   "language": "python",
   "name": "python3"
  },
  "language_info": {
   "codemirror_mode": {
    "name": "ipython",
    "version": 3
   },
   "file_extension": ".py",
   "mimetype": "text/x-python",
   "name": "python",
   "nbconvert_exporter": "python",
   "pygments_lexer": "ipython3",
   "version": "3.8.1"
  },
  "vscode": {
   "interpreter": {
    "hash": "7268f8b2c8e9b7c101aef22317ecead934d41adaa74e017730d34c40a6ef846d"
   }
  }
 },
 "nbformat": 4,
 "nbformat_minor": 5
}
